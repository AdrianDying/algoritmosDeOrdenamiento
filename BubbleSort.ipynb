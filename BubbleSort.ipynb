{
  "nbformat": 4,
  "nbformat_minor": 0,
  "metadata": {
    "colab": {
      "provenance": [],
      "authorship_tag": "ABX9TyNX+NvkcfIl3g4XtOFYJpkp",
      "include_colab_link": true
    },
    "kernelspec": {
      "name": "python3",
      "display_name": "Python 3"
    },
    "language_info": {
      "name": "python"
    }
  },
  "cells": [
    {
      "cell_type": "markdown",
      "metadata": {
        "id": "view-in-github",
        "colab_type": "text"
      },
      "source": [
        "<a href=\"https://colab.research.google.com/github/AdrianDying/algoritmosDeOrdenamiento/blob/main/BubbleSort.ipynb\" target=\"_parent\"><img src=\"https://colab.research.google.com/assets/colab-badge.svg\" alt=\"Open In Colab\"/></a>"
      ]
    },
    {
      "cell_type": "code",
      "source": [
        "# Creamos la clase\n",
        "\n",
        "class ObjetoMinecraft:\n",
        "    def __init__(self, nombre, tipo):\n",
        "        self.nombre = nombre\n",
        "        self.tipo = tipo\n",
        "\n",
        "    def __str__(self):\n",
        "        return f\"{self.nombre} ({self.tipo})\"\n",
        "\n",
        "    # Comparación por nombre\n",
        "    def __gt__(self, otro):\n",
        "        return self.nombre > otro.nombre\n",
        "\n",
        "#Funciones del Bubble sort\n",
        "# Bubble Sort por nombre (usa __gt__ en ObjetoMinecraft)\n",
        "def bubble_sort_por_nombre(lista):\n",
        "    n = len(lista)\n",
        "    for i in range(n):\n",
        "        for j in range(0, n - i - 1):\n",
        "            if lista[j] > lista[j + 1]:\n",
        "                lista[j], lista[j + 1] = lista[j + 1], lista[j]\n",
        "\n",
        "# Bubble Sort por tipo (compara atributo tipo)\n",
        "def bubble_sort_por_tipo(lista):\n",
        "    n = len(lista)\n",
        "    for i in range(n):\n",
        "        for j in range(0, n - i - 1):\n",
        "            if lista[j].tipo > lista[j + 1].tipo:\n",
        "                lista[j], lista[j + 1] = lista[j + 1], lista[j]\n",
        "\n",
        "# Lista de objetos a ordenar en el cofre!\n",
        "objetos = [\n",
        "    ObjetoMinecraft(\"Diamante\", \"Mineral\"),\n",
        "    ObjetoMinecraft(\"Redstone\", \"Mineral\"),\n",
        "    ObjetoMinecraft(\"Pico\", \"Herramienta\"),\n",
        "    ObjetoMinecraft(\"Repetidor\", \"Circuito\"),\n",
        "    ObjetoMinecraft(\"Espada\", \"Herramienta\"),\n",
        "    ObjetoMinecraft(\"Zanahoria\", \"Comida\"),\n",
        "    ObjetoMinecraft(\"EnderPearl\", \"Objeto\"),\n",
        "    ObjetoMinecraft(\"Poción\", \"Consumible\"),\n",
        "    ObjetoMinecraft(\"AntorchaRedStone\", \"Circuito\"),\n",
        "    ObjetoMinecraft(\"Pan\", \"Comida\")\n",
        "]\n",
        "\n",
        "print(\"Cofre desordenado:\")\n",
        "for obj in objetos:\n",
        "    print(obj)\n",
        "\n",
        "bubble_sort_por_nombre(objetos)\n",
        "print(\"\\nCofre ordenado por nombre!:\")\n",
        "for obj in objetos:\n",
        "    print(obj)\n",
        "\n",
        "bubble_sort_por_tipo(objetos)\n",
        "print(\"\\nCofre ordenado por tipo de objeto:\")\n",
        "for obj in objetos:\n",
        "    print(obj)\n"
      ],
      "metadata": {
        "id": "0p6AnqKAzQW_",
        "colab": {
          "base_uri": "https://localhost:8080/"
        },
        "outputId": "bffffa9d-2df8-4f9f-b46e-2eed112b31be"
      },
      "execution_count": 7,
      "outputs": [
        {
          "output_type": "stream",
          "name": "stdout",
          "text": [
            "Cofre desordenado:\n",
            "Diamante (Mineral)\n",
            "Redstone (Mineral)\n",
            "Pico (Herramienta)\n",
            "Repetidor (Circuito)\n",
            "Espada (Herramienta)\n",
            "Zanahoria (Comida)\n",
            "EnderPearl (Objeto)\n",
            "Poción (Consumible)\n",
            "AntorchaRedStone (Circuito)\n",
            "Pan (Comida)\n",
            "\n",
            "Cofre ordenado por nombre!:\n",
            "AntorchaRedStone (Circuito)\n",
            "Diamante (Mineral)\n",
            "EnderPearl (Objeto)\n",
            "Espada (Herramienta)\n",
            "Pan (Comida)\n",
            "Pico (Herramienta)\n",
            "Poción (Consumible)\n",
            "Redstone (Mineral)\n",
            "Repetidor (Circuito)\n",
            "Zanahoria (Comida)\n",
            "\n",
            "Cofre ordenado por tipo de objeto:\n",
            "AntorchaRedStone (Circuito)\n",
            "Repetidor (Circuito)\n",
            "Pan (Comida)\n",
            "Zanahoria (Comida)\n",
            "Poción (Consumible)\n",
            "Espada (Herramienta)\n",
            "Pico (Herramienta)\n",
            "Diamante (Mineral)\n",
            "Redstone (Mineral)\n",
            "EnderPearl (Objeto)\n"
          ]
        }
      ]
    },
    {
      "cell_type": "code",
      "source": [],
      "metadata": {
        "id": "sIHarBOHQEU4"
      },
      "execution_count": null,
      "outputs": []
    }
  ]
}