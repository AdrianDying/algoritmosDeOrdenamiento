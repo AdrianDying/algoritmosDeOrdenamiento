{
  "nbformat": 4,
  "nbformat_minor": 0,
  "metadata": {
    "colab": {
      "provenance": [],
      "authorship_tag": "ABX9TyOCrlpZ4mxBW9Gxqfi0YUEL",
      "include_colab_link": true
    },
    "kernelspec": {
      "name": "python3",
      "display_name": "Python 3"
    },
    "language_info": {
      "name": "python"
    }
  },
  "cells": [
    {
      "cell_type": "markdown",
      "metadata": {
        "id": "view-in-github",
        "colab_type": "text"
      },
      "source": [
        "<a href=\"https://colab.research.google.com/github/AdrianDying/algoritmosDeOrdenamiento/blob/main/algortimosOrdenamientoCAI.ipynb\" target=\"_parent\"><img src=\"https://colab.research.google.com/assets/colab-badge.svg\" alt=\"Open In Colab\"/></a>"
      ]
    },
    {
      "cell_type": "code",
      "source": [
        "# Creamos la clase\n",
        "\n",
        "class ObjetoMinecraft:\n",
        "    def __init__(self, nombre, tipo): #instanciamos el constructor\n",
        "        self.nombre = nombre\n",
        "        self.tipo = tipo\n",
        "\n",
        "    def __str__(self): #__str__nos da el texto en cadena\n",
        "        return f\"{self.nombre} ({self.tipo})\"\n",
        "\n",
        "    # Comparación por nombre\n",
        "    def __gt__(self, otro): #Permite definir cómo se comparan dos objetos de una clase personalizada utilizando el operador >.\n",
        "        return self.nombre > otro.nombre\n",
        "\n",
        "#Funciones del Bubble sort\n",
        "# Bubble Sort por nombre (usa __gt__ en ObjetoMinecraft)\n",
        "\n",
        "\n",
        "def bubble_sort_por_nombre(lista):\n",
        "    n = len(lista)\n",
        "    for i in range(n):\n",
        "        for j in range(0, n - i - 1):     #Compracion j, hace la comparacion alfabetica\n",
        "            if lista[j] > lista[j + 1]:   # Compara objetos usando __gt__\n",
        "                lista[j], lista[j + 1] = lista[j + 1], lista[j]\n",
        "\n",
        "# Bubble Sort por tipo (compara atributo tipo)\n",
        "def bubble_sort_por_tipo(lista):\n",
        "    n = len(lista)\n",
        "    for i in range(n):\n",
        "        for j in range(0, n - i - 1):\n",
        "            if lista[j].tipo > lista[j + 1].tipo:\n",
        "                lista[j], lista[j + 1] = lista[j + 1], lista[j] # Este es el que realiza el intercambio\n",
        "\n",
        "\n",
        "# Lista de objetos a ordenar en el cofre!\n",
        "objetos = [\n",
        "    ObjetoMinecraft(\"Diamante\", \"Mineral\"),\n",
        "    ObjetoMinecraft(\"Redstone\", \"Mineral\"),\n",
        "    #ObjetoMinecraft(\"Redstone\", \"Circuito\"),\n",
        "    ObjetoMinecraft(\"Pico\", \"Herramienta\"),\n",
        "    ObjetoMinecraft(\"Repetidor\", \"Circuito\"),\n",
        "    ObjetoMinecraft(\"Espada\", \"Herramienta\"),\n",
        "    ObjetoMinecraft(\"Zanahoria\", \"Comida\"),\n",
        "    ObjetoMinecraft(\"EnderPearl\", \"Objeto\"),\n",
        "    ObjetoMinecraft(\"Poción\", \"Consumible\"),\n",
        "    ObjetoMinecraft(\"AntorchaRedStone\", \"Circuito\"),\n",
        "    ObjetoMinecraft(\"Pan\", \"Comida\")\n",
        "]\n",
        "\n",
        "#LosPrints\n",
        "\n",
        "print(\"Cofre desordenado:\") #PreOrden\n",
        "for obj in objetos:\n",
        "    print(obj)\n",
        "\n",
        "bubble_sort_por_nombre(objetos) #PostOrdenPorNombre\n",
        "print(\"\\nCofre ordenado por nombre!:\")\n",
        "for obj in objetos:\n",
        "    print(obj)\n",
        "\n",
        "bubble_sort_por_tipo(objetos) #PostOrdenPorTipo\n",
        "print(\"\\nCofre ordenado por tipo de objeto:\")\n",
        "for obj in objetos:\n",
        "    print(obj)\n"
      ],
      "metadata": {
        "id": "0p6AnqKAzQW_",
        "colab": {
          "base_uri": "https://localhost:8080/"
        },
        "outputId": "da76c00e-f17d-426a-fff3-d3a572c6d0ef"
      },
      "execution_count": null,
      "outputs": [
        {
          "output_type": "stream",
          "name": "stdout",
          "text": [
            "Cofre desordenado:\n",
            "Diamante (Mineral)\n",
            "Redstone (Mineral)\n",
            "Redstone (Circuito)\n",
            "Pico (Herramienta)\n",
            "Repetidor (Circuito)\n",
            "Espada (Herramienta)\n",
            "Zanahoria (Comida)\n",
            "EnderPearl (Objeto)\n",
            "Poción (Consumible)\n",
            "AntorchaRedStone (Circuito)\n",
            "Pan (Comida)\n",
            "\n",
            "Cofre ordenado por nombre!:\n",
            "AntorchaRedStone (Circuito)\n",
            "Diamante (Mineral)\n",
            "EnderPearl (Objeto)\n",
            "Espada (Herramienta)\n",
            "Pan (Comida)\n",
            "Pico (Herramienta)\n",
            "Poción (Consumible)\n",
            "Redstone (Mineral)\n",
            "Redstone (Circuito)\n",
            "Repetidor (Circuito)\n",
            "Zanahoria (Comida)\n",
            "\n",
            "Cofre ordenado por tipo de objeto:\n",
            "AntorchaRedStone (Circuito)\n",
            "Redstone (Circuito)\n",
            "Repetidor (Circuito)\n",
            "Pan (Comida)\n",
            "Zanahoria (Comida)\n",
            "Poción (Consumible)\n",
            "Espada (Herramienta)\n",
            "Pico (Herramienta)\n",
            "Diamante (Mineral)\n",
            "Redstone (Mineral)\n",
            "EnderPearl (Objeto)\n"
          ]
        }
      ]
    },
    {
      "cell_type": "code",
      "source": [
        "# Para la función selectionSort\n",
        "def selection_sort(lista):\n",
        "    n = len(lista)\n",
        "    for i in range(n):\n",
        "        min_index = i  # Se asume que el minimo esta en la posición inicial\n",
        "        for j in range(i + 1, n):\n",
        "            if lista[j] < lista[min_index]:\n",
        "                min_index = j  # Comparativa por valores menores\n",
        "\n",
        "        lista[i], lista[min_index] = lista[min_index], lista[i] #Este hace el intercambio\n",
        "\n",
        "# Lista de objetos a ordenar\n",
        "objetos_minecraft = [\"Diamante\", \"Redstone\", \"Pico\", \"Repetidor\", \"Espada\", \"Zanahoria\", \"EnderPearl\", \"Poción\", \"AntorchaRedStone\", \"Pan\"]\n",
        "\n",
        "#Prints\n",
        "\n",
        "print(\"Estos son los objetos en tu cofre:\") #PreOrder\n",
        "for obj in objetos_minecraft:\n",
        "    print(obj)\n",
        "\n",
        "\n",
        "selection_sort(objetos_minecraft)\n",
        "\n",
        "\n",
        "print(\"\\nObjetos ordenados correctamente:\") #Print post order\n",
        "for obj in objetos_minecraft:\n",
        "    print(obj)\n"
      ],
      "metadata": {
        "colab": {
          "base_uri": "https://localhost:8080/"
        },
        "id": "06AbQfcZoIbr",
        "outputId": "948dc30f-e502-4fb1-b66c-45cad6a02720"
      },
      "execution_count": null,
      "outputs": [
        {
          "output_type": "stream",
          "name": "stdout",
          "text": [
            "Estos son los objetos en tu cofre:\n",
            "Diamante\n",
            "Redstone\n",
            "Pico\n",
            "Repetidor\n",
            "Espada\n",
            "Zanahoria\n",
            "EnderPearl\n",
            "Poción\n",
            "AntorchaRedStone\n",
            "Pan\n",
            "\n",
            "Objetos ordenados correctamente:\n",
            "AntorchaRedStone\n",
            "Diamante\n",
            "EnderPearl\n",
            "Espada\n",
            "Pan\n",
            "Pico\n",
            "Poción\n",
            "Redstone\n",
            "Repetidor\n",
            "Zanahoria\n"
          ]
        }
      ]
    },
    {
      "cell_type": "code",
      "source": [
        "#Para la función insertionSort\n",
        "\n",
        "def insertion_sort(lista):\n",
        "    for i in range(1, len(lista)):\n",
        "        clave = lista[i]\n",
        "        j = i - 1\n",
        "        while j >= 0 and lista[j] > clave: #Mover elementos mayores hacia adelante\n",
        "            lista[j + 1] = lista[j]\n",
        "            j -= 1\n",
        "        lista[j + 1] = clave\n",
        "\n",
        "\n",
        "objetos_minecraft = [\"Diamante\", \"Redstone\", \"Pico\", \"Repetidor\", \"Espada\", \"Zanahoria\", \"EnderPearl\", \"Poción\", \"AntorchaRedStone\", \"Pan\"]\n",
        "\n",
        "\n",
        "print(\"Objetos en el cofre:\")\n",
        "for obj in objetos_minecraft:\n",
        "    print(obj)\n",
        "\n",
        "insertion_sort(objetos_minecraft)\n",
        "\n",
        "print(\"\\nAhora tu cofre esta ordenado\")\n",
        "for obj in objetos_minecraft:\n",
        "    print(obj)\n"
      ],
      "metadata": {
        "colab": {
          "base_uri": "https://localhost:8080/"
        },
        "id": "QMdsJWSwy-_h",
        "outputId": "1d0ac554-4c0f-4374-eb30-0996e637e8c8"
      },
      "execution_count": null,
      "outputs": [
        {
          "output_type": "stream",
          "name": "stdout",
          "text": [
            "Objetos en el cofre:\n",
            "Diamante\n",
            "Redstone\n",
            "Pico\n",
            "Repetidor\n",
            "Espada\n",
            "Zanahoria\n",
            "EnderPearl\n",
            "Poción\n",
            "AntorchaRedStone\n",
            "Pan\n",
            "\n",
            "Ahora tu cofre esta ordenado\n",
            "AntorchaRedStone\n",
            "Diamante\n",
            "EnderPearl\n",
            "Espada\n",
            "Pan\n",
            "Pico\n",
            "Poción\n",
            "Redstone\n",
            "Repetidor\n",
            "Zanahoria\n"
          ]
        }
      ]
    },
    {
      "cell_type": "code",
      "source": [
        "#Lista de objetos minecraft\n",
        "objetos_minecraft = [\"Diamante\", \"Redstone\", \"Pico\", \"Repetidor\", \"Espada\", \"Zanahoria\", \"EnderPearl\", \"Poción\", \"AntorchaRedStone\", \"Pan\"]\n",
        "\n",
        "# Función Merge Sort\n",
        "def merge_sort(lista):\n",
        "    if len(lista) <= 1: #Esta comparación verifica si la lista tiene mas de 1 elemento, si solo tiene uno, pues ya estaria ordenado\n",
        "        return lista\n",
        "\n",
        "    mid = len(lista) // 2 #Con mid definimos la media de la lista para dividir en 2 la lista original\n",
        "    izquierda = merge_sort(lista[:mid])\n",
        "    derecha = merge_sort(lista[mid:])\n",
        "\n",
        "    return merge(izquierda, derecha) #rdse vuelve a llamar\n",
        "\n",
        "def merge(izquierda, derecha):\n",
        "    resultado = []\n",
        "    i = j = 0\n",
        "\n",
        "    # el algoritmo\n",
        "    while i < len(izquierda) and j < len(derecha): #Despues de la division, se compara los minimos de la izquierda con el minimo de la derecha\n",
        "        if izquierda[i] < derecha[j]:\n",
        "            resultado.append(izquierda[i])\n",
        "            i += 1\n",
        "        else:\n",
        "            resultado.append(derecha[j])\n",
        "            j += 1\n",
        "\n",
        "\n",
        "    resultado.extend(izquierda[i:]) #extend() añade los elementos de un iterable al final de la lista\n",
        "    resultado.extend(derecha[j:]) #appendo() solo añadiria 1 elemento\n",
        "    return resultado\n",
        "\n",
        "#Los prints\n",
        "print(\"Estos son tus objetos en el cobre:\", objetos_minecraft)\n",
        "\n",
        "lista_ordenada = merge_sort(objetos_minecraft)\n",
        "\n",
        "print(\"El cofre a quedado ordenado\", lista_ordenada)\n"
      ],
      "metadata": {
        "colab": {
          "base_uri": "https://localhost:8080/"
        },
        "id": "ElxIDB89BaUr",
        "outputId": "298c759b-fe7c-4a11-b09f-7a7fd47a3fb5"
      },
      "execution_count": 43,
      "outputs": [
        {
          "output_type": "stream",
          "name": "stdout",
          "text": [
            "Estos son tus objetos en el cobre: ['Diamante', 'Redstone', 'Pico', 'Repetidor', 'Espada', 'Zanahoria', 'EnderPearl', 'Poción', 'AntorchaRedStone', 'Pan']\n",
            "El cofre a quedado ordenado ['AntorchaRedStone', 'Diamante', 'EnderPearl', 'Espada', 'Pan', 'Pico', 'Poción', 'Redstone', 'Repetidor', 'Zanahoria']\n"
          ]
        }
      ]
    },
    {
      "cell_type": "code",
      "source": [
        "\"\"\"Qué es el pivote? el pivote es un elemento de la lista que se utiliza para dividir la lista en dos sublistas:\n",
        "una con elementos menores que el pivote y otra con elementos mayores que el pivote.\n",
        "La posición final del pivote en la lista ordenada se utiliza para dividir la lista en sublistas para llamadas recursivas posteriores.\"\"\"\n",
        "\n",
        "#Funcion para el quick sort\n",
        "def quick_sort(lista):\n",
        "    if len(lista) <= 1:\n",
        "        return lista  # Esta es la lista ordenada\n",
        "\n",
        "    pivote = lista[-1] #Por practicidad elegimos el ultimo elemento del pivote!\n",
        "    menores = []\n",
        "    mayores = []\n",
        "\n",
        "    for elemento in lista[:-1]: #una vez termine de comparar el pivote, este sale de la lista y continua con el siguiente tomando otra vez la recursión para el ultimo elemento\n",
        "        if elemento <= pivote:\n",
        "            menores.append(elemento)\n",
        "        else:\n",
        "            mayores.append(elemento)\n",
        "\n",
        "    #El merge\n",
        "    return quick_sort(menores) + [pivote] + quick_sort(mayores) # el merge se usa comparando con un quick sort por la izquierda los menores y por la derecha los mayores en comparación al pivote\n",
        "\n",
        "# Lista de objetos Minecraft\n",
        "objetos_minecraft = [\"Diamante\", \"Redstone\", \"Pico\", \"Repetidor\", \"Espada\", \"Zanahoria\", \"EnderPearl\", \"Poción\", \"AntorchaRedStone\", \"Pan\"\n",
        "]\n",
        "\n",
        "print(\"Estos objetos tienes el cofre:\")\n",
        "print(objetos_minecraft)\n",
        "\n",
        "ordenada = quick_sort(objetos_minecraft)\n",
        "\n",
        "print(\"\\nAsí quedo tu cofre despues de pivotear:\")\n",
        "print(ordenada)\n"
      ],
      "metadata": {
        "colab": {
          "base_uri": "https://localhost:8080/"
        },
        "id": "u66OgnrszdO6",
        "outputId": "19c6f920-92d9-4172-a786-0ec96848c291"
      },
      "execution_count": null,
      "outputs": [
        {
          "output_type": "stream",
          "name": "stdout",
          "text": [
            "Estos objetos tienes el cofre:\n",
            "['Diamante', 'Redstone', 'Pico', 'Repetidor', 'Espada', 'Zanahoria', 'EnderPearl', 'Poción', 'AntorchaRedStone', 'Pan']\n",
            "\n",
            "Así quedo tu cofre despues de pivotear:\n",
            "['AntorchaRedStone', 'Diamante', 'EnderPearl', 'Espada', 'Pan', 'Pico', 'Poción', 'Redstone', 'Repetidor', 'Zanahoria']\n"
          ]
        }
      ]
    },
    {
      "cell_type": "code",
      "source": [
        "\"\"\"heapify() pertenece modulo heapq que permite transformar una lista desordenada en un heap válido.\n",
        "Un heap es una estructura de árbol binario que satisface la propiedad de heap,\n",
        "donde el elemento más pequeño (en un montón mínimo) o el más grande (en un montón máximo) está en la raíz\"\"\"\n",
        "\n",
        "\"\"\"\"\n",
        "1. Reorganiza la lista:\n",
        "heapify() reorganiza los elementos de la lista original en el lugar, es decir, no crea una copia.\n",
        "2. Convierta en un heap:\n",
        "Reorganiza los elementos de la lista para que cumpla con la propiedad del heap. En el caso de un montón mínimo, el elemento más pequeño estará en la raíz.\n",
        "3. Eficiencia:\n",
        "La operación se realiza en tiempo lineal, lo que la hace muy eficiente para construir un montón a partir de una lista. \"\"\"\n",
        "\n",
        "\"\"\"El módulo heapq en Python implementa la estructura de datos de cola de montón o cola de prioridad,\n",
        "que permite acceder fácilmente al elemento más pequeño (o más grande) de una colección \"\"\"\n",
        "\n",
        "import heapq\n",
        "\n",
        "def heapify(lista, n, i): #se crea el nodo raiz, donde las ramas hijas por la izquierda, tienen que ser menor al indice del max heap por ende, las de la derecha tienen que ser mayores\n",
        "    mayor = i\n",
        "    izquierda = 2 * i + 1\n",
        "    derecha = 2 * i + 2\n",
        "\n",
        "    if izquierda < n and lista[izquierda] > lista[mayor]:\n",
        "        mayor = izquierda\n",
        "\n",
        "    if derecha < n and lista[derecha] > lista[mayor]:\n",
        "        mayor = derecha\n",
        "\n",
        "    if mayor != i:\n",
        "        lista[i], lista[mayor] = lista[mayor], lista[i]\n",
        "        heapify(lista, n, mayor)\n",
        "\n",
        "def heap_sort(lista):\n",
        "    n = len(lista)\n",
        "\n",
        "    # Para el nodo\n",
        "    for i in range(n // 2 - 1, -1, -1): # La raíz del max heap contiene siempre el valor más grande.\n",
        "        heapify(lista, n, i)\n",
        "\n",
        "    # Despues de la contrucción del max heap, el arreglo acomoda los elementos ordenados segun su comparación\n",
        "    for i in range(n - 1, 0, -1):\n",
        "        lista[i], lista[0] = lista[0], lista[i]\n",
        "        heapify(lista, i, 0)\n",
        "\n",
        "# Lista de Objetos dentro del cofre\n",
        "objetos_minecraft = [\"Diamante\", \"Redstone\", \"Pico\", \"Repetidor\", \"Espada\", \"Zanahoria\", \"EnderPearl\", \"Poción\", \"AntorchaRedStone\", \"Pan\"]\n",
        "\n",
        "\n",
        "print(\"Estos son tus objetos que estan dentro del cofre:\")\n",
        "print(objetos_minecraft)\n",
        "\n",
        "heap_sort(objetos_minecraft)\n",
        "\n",
        "print(\"\\nCofre ordenado por el heap sort:\")\n",
        "print(objetos_minecraft)\n"
      ],
      "metadata": {
        "colab": {
          "base_uri": "https://localhost:8080/"
        },
        "id": "dzwm8XmhnMHS",
        "outputId": "c844871e-8fbe-4a96-d9a8-96f906bbd827"
      },
      "execution_count": null,
      "outputs": [
        {
          "output_type": "stream",
          "name": "stdout",
          "text": [
            "Lista original:\n",
            "['Diamante', 'Redstone', 'Pico', 'Repetidor', 'Espada', 'Zanahoria', 'EnderPearl', 'Poción', 'AntorchaRedStone', 'Pan']\n",
            "\n",
            "Lista ordenada con heap_sort:\n",
            "['AntorchaRedStone', 'Diamante', 'EnderPearl', 'Espada', 'Pan', 'Pico', 'Poción', 'Redstone', 'Repetidor', 'Zanahoria']\n"
          ]
        }
      ]
    },
    {
      "cell_type": "code",
      "source": [],
      "metadata": {
        "id": "f4kpnin0sTkO"
      },
      "execution_count": null,
      "outputs": []
    }
  ]
}